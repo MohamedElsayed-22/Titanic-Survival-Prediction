{
 "cells": [
  {
   "cell_type": "code",
   "execution_count": 26,
   "metadata": {
    "scrolled": true
   },
   "outputs": [],
   "source": [
    "from sklearn.ensemble import RandomForestClassifier\n",
    "import pandas as pd\n",
    "#preparing the training dataset\n",
    "train_data_path = \"./titanic_dataset/train.csv\"\n",
    "train_data = pd.read_csv(train_data_path)\n",
    "#determining the label of the training data\n",
    "y=train_data.Survived\n",
    "#determining the features which will be the reference of the training\n",
    "features = [\"Age\", \"Pclass\"]\n",
    "x=train_data[features]\n"
   ]
  },
  {
   "cell_type": "code",
   "execution_count": 27,
   "metadata": {},
   "outputs": [
    {
     "data": {
      "text/plain": [
       "RandomForestClassifier()"
      ]
     },
     "execution_count": 27,
     "metadata": {},
     "output_type": "execute_result"
    }
   ],
   "source": [
    "#fitting the data into the model\n",
    "titanicModel=RandomForestClassifier()\n",
    "titanicModel.fit(x,y)"
   ]
  },
  {
   "cell_type": "code",
   "execution_count": 28,
   "metadata": {},
   "outputs": [
    {
     "name": "stdout",
     "output_type": "stream",
     "text": [
      "[0 0 0 1 0]\n",
      "0    0\n",
      "1    1\n",
      "2    1\n",
      "3    1\n",
      "4    0\n",
      "Name: Survived, dtype: int64\n"
     ]
    }
   ],
   "source": [
    "#importing the test dataset\n",
    "test_data_path=\"./titanic_dataset/test.csv\"\n",
    "test_data=pd.read_csv(test_data_path)\n",
    "y_eval=test_data.Survived\n",
    "x_eval=test_data[features]\n",
    "#comparing between the predicted and the real values\n",
    "y_predict=titanicModel.predict(x_eval)\n",
    "print(y_predict[:5])\n",
    "print(y_eval[:5])"
   ]
  },
  {
   "cell_type": "code",
   "execution_count": 29,
   "metadata": {},
   "outputs": [
    {
     "name": "stdout",
     "output_type": "stream",
     "text": [
      "66.66666666666666 %\n"
     ]
    }
   ],
   "source": [
    "#calculating the accuracy\n",
    "accuracy = 0\n",
    "for i, j in zip(y_predict, y_eval):\n",
    "    if (i==j):\n",
    "        accuracy+=1\n",
    "print(accuracy/len(y_predict)*100,'%')"
   ]
  },
  {
   "cell_type": "code",
   "execution_count": 30,
   "metadata": {},
   "outputs": [
    {
     "name": "stdout",
     "output_type": "stream",
     "text": [
      "0.3333333333333333\n"
     ]
    }
   ],
   "source": [
    "#calculating the mean absolute error\n",
    "from sklearn.metrics import mean_absolute_error\n",
    "val_mae = mean_absolute_error(y_predict, y_eval)\n",
    "print(val_mae)"
   ]
  }
 ],
 "metadata": {
  "kernelspec": {
   "display_name": "Python 3",
   "language": "python",
   "name": "python3"
  },
  "language_info": {
   "codemirror_mode": {
    "name": "ipython",
    "version": 3
   },
   "file_extension": ".py",
   "mimetype": "text/x-python",
   "name": "python",
   "nbconvert_exporter": "python",
   "pygments_lexer": "ipython3",
   "version": "3.8.5"
  }
 },
 "nbformat": 4,
 "nbformat_minor": 4
}
